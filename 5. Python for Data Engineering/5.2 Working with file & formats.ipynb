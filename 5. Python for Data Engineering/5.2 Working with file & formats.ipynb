{
 "cells": [
  {
   "cell_type": "markdown",
   "id": "dec9c31e",
   "metadata": {},
   "source": [
    "# Working with different file formats\n",
    "\n",
    "- JSON (java script object notation)\n",
    "- CSV (Command Seperated Values)\n",
    "- Excel\n",
    "- Avro"
   ]
  },
  {
   "cell_type": "markdown",
   "id": "11f03022",
   "metadata": {},
   "source": [
    "![title](images/data_gen.jpeg)"
   ]
  },
  {
   "cell_type": "markdown",
   "id": "58792c03",
   "metadata": {},
   "source": [
    "As a data person you will deal with various type of data and it's important to learn how to handle these file formats"
   ]
  },
  {
   "cell_type": "markdown",
   "id": "c56a4f38",
   "metadata": {},
   "source": [
    "# Working in JSON files\n",
    "***\n",
    "Since its inception, JSON has quickly become the de facto standard for information exchange.\n",
    "\n",
    "Chances are you’re here because you need to transport some data from here to there. Perhaps you’re gathering information through an API or storing your data in a document database.\n",
    "\n",
    "One way or another, you’re up to your neck in JSON, and you’ve got to Python your way out.\n",
    "\n",
    "## A (Very) Brief History of JSON\n",
    "\n",
    "\n",
    "JSON stangs for JavaScript Object Notation was inspired by a subset of the JavaScript programming language dealing with object literal syntax.\n",
    "\n",
    "Ultimately, the community at large adopted JSON because it’s easy for both humans and machines to create and understand.\n",
    "\n",
    "### Look, it’s JSON!\n",
    "    {\n",
    "        \"firstName\": \"Jane\",\n",
    "        \"lastName\": \"Doe\",\n",
    "        \"hobbies\": [\"running\", \"sky diving\", \"singing\"],\n",
    "        \"age\": 35,\n",
    "        \"children\": [\n",
    "            {\n",
    "                \"firstName\": \"Alice\",\n",
    "                \"age\": 6\n",
    "            },\n",
    "            {\n",
    "                \"firstName\": \"Bob\",\n",
    "                \"age\": 8\n",
    "            }\n",
    "        ]\n",
    "    }\n",
    "### Does this look similar to something?\n",
    "\n",
    "YES! Python **dictionary!**\n",
    "\n",
    "\n",
    "# Writing JSON files"
   ]
  },
  {
   "cell_type": "code",
   "execution_count": 1,
   "id": "eafba664",
   "metadata": {},
   "outputs": [],
   "source": [
    "import json"
   ]
  },
  {
   "cell_type": "code",
   "execution_count": 2,
   "id": "92be8789",
   "metadata": {},
   "outputs": [],
   "source": [
    "data = {\n",
    "    \"president\": {\n",
    "        \"name\": \"Zaphod Beeblebrox\",\n",
    "        \"species\": \"Betelgeusian\"\n",
    "    }\n",
    "}"
   ]
  },
  {
   "cell_type": "code",
   "execution_count": 3,
   "id": "bb56b6b9",
   "metadata": {},
   "outputs": [],
   "source": [
    "#Save Json data into Json file With open(\"file_name\", \"mode\")\n",
    "with open(\"data_file.json\", \"w\") as write_file:\n",
    "    json.dump(data, write_file)"
   ]
  },
  {
   "cell_type": "markdown",
   "id": "8024a816",
   "metadata": {},
   "source": [
    "Note that dump() takes two positional arguments:\n",
    "\n",
    "   1. the data object to be serialized, and\n",
    "   2. the file-like object to which the bytes will be written."
   ]
  },
  {
   "cell_type": "markdown",
   "id": "a9caa078",
   "metadata": {},
   "source": [
    "## Reading JSON files"
   ]
  },
  {
   "cell_type": "code",
   "execution_count": 4,
   "id": "87b942a2",
   "metadata": {},
   "outputs": [],
   "source": [
    "with open(\"data_file.json\", \"r\") as read_file:\n",
    "    data = json.load(read_file)"
   ]
  },
  {
   "cell_type": "code",
   "execution_count": 5,
   "id": "4a392f7b",
   "metadata": {},
   "outputs": [
    {
     "data": {
      "text/plain": [
       "{'president': {'name': 'Zaphod Beeblebrox', 'species': 'Betelgeusian'}}"
      ]
     },
     "execution_count": 5,
     "metadata": {},
     "output_type": "execute_result"
    }
   ],
   "source": [
    "data"
   ]
  },
  {
   "cell_type": "code",
   "execution_count": 6,
   "id": "b19081cc",
   "metadata": {},
   "outputs": [
    {
     "data": {
      "text/plain": [
       "dict"
      ]
     },
     "execution_count": 6,
     "metadata": {},
     "output_type": "execute_result"
    }
   ],
   "source": [
    "type(data)"
   ]
  },
  {
   "cell_type": "markdown",
   "id": "d2505577",
   "metadata": {},
   "source": [
    "### You can also read JSON as DataFrame in Pandas"
   ]
  },
  {
   "cell_type": "code",
   "execution_count": 7,
   "id": "8d679521",
   "metadata": {},
   "outputs": [
    {
     "name": "stdout",
     "output_type": "stream",
     "text": [
      "       Courses  Discount\n",
      "Index0  Pandas      1200\n",
      "Index1  Hadoop      1500\n",
      "Index2   Spark      1800\n"
     ]
    }
   ],
   "source": [
    "import pandas as pd\n",
    "\n",
    "jsonStr = '''{\"Index0\":{\"Courses\": \"Pandas\",\"Discount\": \"1200\"},\n",
    "           \"Index1\":{\"Courses\": \"Hadoop\",\"Discount\": \"1500\"},\n",
    "           \"Index2\":{\"Courses\": \"Spark\",\"Discount\": \"1800\"}\n",
    "          }'''\n",
    "\n",
    "# Convert JSON to DataFrame Using read_json()\n",
    "df2 = pd.read_json(jsonStr, orient ='index')\n",
    "print(df2)"
   ]
  },
  {
   "cell_type": "markdown",
   "id": "73dcd7bb",
   "metadata": {},
   "source": [
    "### Convert Dict To DF(DataFrame)"
   ]
  },
  {
   "cell_type": "code",
   "execution_count": 8,
   "id": "8e7d6113",
   "metadata": {},
   "outputs": [
    {
     "data": {
      "text/plain": [
       "{'name': 'Zaphod Beeblebrox', 'species': 'Betelgeusian'}"
      ]
     },
     "execution_count": 8,
     "metadata": {},
     "output_type": "execute_result"
    }
   ],
   "source": [
    "data['president']"
   ]
  },
  {
   "cell_type": "code",
   "execution_count": 9,
   "id": "acb9d03d",
   "metadata": {},
   "outputs": [],
   "source": [
    "import pandas as pd\n",
    "\n",
    "df3 = pd.DataFrame.from_dict(data, orient ='index')"
   ]
  },
  {
   "cell_type": "code",
   "execution_count": 10,
   "id": "139e8084",
   "metadata": {},
   "outputs": [
    {
     "data": {
      "text/html": [
       "<div>\n",
       "<style scoped>\n",
       "    .dataframe tbody tr th:only-of-type {\n",
       "        vertical-align: middle;\n",
       "    }\n",
       "\n",
       "    .dataframe tbody tr th {\n",
       "        vertical-align: top;\n",
       "    }\n",
       "\n",
       "    .dataframe thead th {\n",
       "        text-align: right;\n",
       "    }\n",
       "</style>\n",
       "<table border=\"1\" class=\"dataframe\">\n",
       "  <thead>\n",
       "    <tr style=\"text-align: right;\">\n",
       "      <th></th>\n",
       "      <th>name</th>\n",
       "      <th>species</th>\n",
       "    </tr>\n",
       "  </thead>\n",
       "  <tbody>\n",
       "    <tr>\n",
       "      <th>president</th>\n",
       "      <td>Zaphod Beeblebrox</td>\n",
       "      <td>Betelgeusian</td>\n",
       "    </tr>\n",
       "  </tbody>\n",
       "</table>\n",
       "</div>"
      ],
      "text/plain": [
       "                        name       species\n",
       "president  Zaphod Beeblebrox  Betelgeusian"
      ]
     },
     "execution_count": 10,
     "metadata": {},
     "output_type": "execute_result"
    }
   ],
   "source": [
    "df3"
   ]
  },
  {
   "cell_type": "markdown",
   "id": "ca60c350",
   "metadata": {},
   "source": [
    "# Working with CSV files\n",
    "\n",
    "A CSV file (Comma Separated Values file) is a type of plain text file that uses specific structuring to arrange tabular data.\n",
    "\n",
    "It’s a plain text file that has data separated by commas!\n",
    "\n",
    "    column 1 name,column 2 name, column 3 name\n",
    "    first row data 1,first row data 2,first row data 3\n",
    "    second row data 1,second row data 2,second row data 3\n",
    "    ..."
   ]
  },
  {
   "cell_type": "code",
   "execution_count": 11,
   "id": "c3a1a3a3",
   "metadata": {},
   "outputs": [],
   "source": [
    "df = pd.read_csv('data/hrdata.csv', index_col='Name')"
   ]
  },
  {
   "cell_type": "code",
   "execution_count": 12,
   "id": "7a64950b",
   "metadata": {},
   "outputs": [
    {
     "data": {
      "text/html": [
       "<div>\n",
       "<style scoped>\n",
       "    .dataframe tbody tr th:only-of-type {\n",
       "        vertical-align: middle;\n",
       "    }\n",
       "\n",
       "    .dataframe tbody tr th {\n",
       "        vertical-align: top;\n",
       "    }\n",
       "\n",
       "    .dataframe thead th {\n",
       "        text-align: right;\n",
       "    }\n",
       "</style>\n",
       "<table border=\"1\" class=\"dataframe\">\n",
       "  <thead>\n",
       "    <tr style=\"text-align: right;\">\n",
       "      <th></th>\n",
       "      <th>Hire Date</th>\n",
       "      <th>Salary</th>\n",
       "      <th>Sick Days remaining</th>\n",
       "    </tr>\n",
       "    <tr>\n",
       "      <th>Name</th>\n",
       "      <th></th>\n",
       "      <th></th>\n",
       "      <th></th>\n",
       "    </tr>\n",
       "  </thead>\n",
       "  <tbody>\n",
       "    <tr>\n",
       "      <th>Graham Chapman</th>\n",
       "      <td>03/15/14</td>\n",
       "      <td>50000.0</td>\n",
       "      <td>10</td>\n",
       "    </tr>\n",
       "    <tr>\n",
       "      <th>John Cleese</th>\n",
       "      <td>06/01/15</td>\n",
       "      <td>65000.0</td>\n",
       "      <td>8</td>\n",
       "    </tr>\n",
       "    <tr>\n",
       "      <th>Eric Idle</th>\n",
       "      <td>05/12/14</td>\n",
       "      <td>45000.0</td>\n",
       "      <td>10</td>\n",
       "    </tr>\n",
       "    <tr>\n",
       "      <th>Terry Jones</th>\n",
       "      <td>11/01/13</td>\n",
       "      <td>70000.0</td>\n",
       "      <td>3</td>\n",
       "    </tr>\n",
       "    <tr>\n",
       "      <th>Terry Gilliam</th>\n",
       "      <td>08/12/14</td>\n",
       "      <td>48000.0</td>\n",
       "      <td>7</td>\n",
       "    </tr>\n",
       "  </tbody>\n",
       "</table>\n",
       "</div>"
      ],
      "text/plain": [
       "               Hire Date   Salary  Sick Days remaining\n",
       "Name                                                  \n",
       "Graham Chapman  03/15/14  50000.0                   10\n",
       "John Cleese     06/01/15  65000.0                    8\n",
       "Eric Idle       05/12/14  45000.0                   10\n",
       "Terry Jones     11/01/13  70000.0                    3\n",
       "Terry Gilliam   08/12/14  48000.0                    7"
      ]
     },
     "execution_count": 12,
     "metadata": {},
     "output_type": "execute_result"
    }
   ],
   "source": [
    "df.head()"
   ]
  },
  {
   "cell_type": "code",
   "execution_count": 13,
   "id": "25427014",
   "metadata": {},
   "outputs": [],
   "source": [
    "df = pd.read_csv('data/hrdata.csv', index_col='Name', parse_dates=['Hire Date'])\n"
   ]
  },
  {
   "cell_type": "markdown",
   "id": "41ba7b69",
   "metadata": {},
   "source": [
    "df"
   ]
  },
  {
   "cell_type": "code",
   "execution_count": 14,
   "id": "4df0e2d4",
   "metadata": {},
   "outputs": [],
   "source": [
    "df.to_csv('data/hrdata_modified.csv')"
   ]
  },
  {
   "cell_type": "markdown",
   "id": "17fea9c1",
   "metadata": {},
   "source": [
    "## Working with Excel Files\n",
    "Excel spreadsheets are one of those things you might have to deal with at some point. Either it’s because your boss loves them or because marketing needs them, and you might have to learn how to work with spreadsheets.\n",
    "\n",
    "Many companies still prefer using Excel files for their data storage and analysis, as a data expert you should know how to handle these files programatically!\n",
    "\n",
    "To work with Excel files we have package in python openpyxl\n"
   ]
  },
  {
   "cell_type": "code",
   "execution_count": 15,
   "id": "62f517b9",
   "metadata": {
    "scrolled": true
   },
   "outputs": [
    {
     "name": "stdout",
     "output_type": "stream",
     "text": [
      "Requirement already satisfied: openpyxl in c:\\users\\chintu\\appdata\\local\\programs\\python\\python39\\lib\\site-packages (3.1.2)\n",
      "Requirement already satisfied: et-xmlfile in c:\\users\\chintu\\appdata\\local\\programs\\python\\python39\\lib\\site-packages (from openpyxl) (1.1.0)\n",
      "Note: you may need to restart the kernel to use updated packages.\n"
     ]
    },
    {
     "name": "stderr",
     "output_type": "stream",
     "text": [
      "WARNING: You are using pip version 21.1.3; however, version 23.1.2 is available.\n",
      "You should consider upgrading via the 'c:\\users\\chintu\\appdata\\local\\programs\\python\\python39\\python.exe -m pip install --upgrade pip' command.\n"
     ]
    }
   ],
   "source": [
    "pip install openpyxl"
   ]
  },
  {
   "cell_type": "markdown",
   "id": "04bb817d",
   "metadata": {},
   "source": [
    "Requirement already satisfied: openpyxl in /opt/homebrew/lib/python3.10/site-packages (3.0.10)\n",
    "Requirement already satisfied: et-xmlfile in /opt/homebrew/lib/python3.10/site-packages (from openpyxl) (1.1.0)\n",
    "\n",
    "[notice] A new release of pip available: 22.3.1 -> 23.0\n",
    "[notice] To update, run: python3.10 -m pip install --upgrade pip\n",
    "Note: you may need to restart the kernel to use updated packages.\n",
    "\n",
    "   ## Basics of Excel\n",
    "![title](images/excel.png)"
   ]
  },
  {
   "cell_type": "code",
   "execution_count": 16,
   "id": "0502dac1",
   "metadata": {},
   "outputs": [],
   "source": [
    "from openpyxl import Workbook\n",
    "\n",
    "workbook = Workbook()\n",
    "sheet = workbook.active\n",
    "\n",
    "sheet[\"A1\"] = \"hello\"\n",
    "sheet[\"B1\"] = \"world!\"\n",
    "\n",
    "workbook.save(filename=\"hello_world.xlsx\")"
   ]
  },
  {
   "cell_type": "code",
   "execution_count": 17,
   "id": "2bf64703",
   "metadata": {},
   "outputs": [
    {
     "data": {
      "text/plain": [
       "['Sheet 1']"
      ]
     },
     "execution_count": 17,
     "metadata": {},
     "output_type": "execute_result"
    }
   ],
   "source": [
    "#Reading excel file\n",
    "\n",
    "from openpyxl import load_workbook\n",
    "workbook = load_workbook(filename=\"data/sample-xlsx-file.xlsx\")\n",
    "workbook.sheetnames\n",
    "['Sheet 1']"
   ]
  },
  {
   "cell_type": "code",
   "execution_count": 18,
   "id": "98b331be",
   "metadata": {},
   "outputs": [],
   "source": [
    "sheet = workbook.active"
   ]
  },
  {
   "cell_type": "code",
   "execution_count": 19,
   "id": "d8ef35dc",
   "metadata": {},
   "outputs": [
    {
     "data": {
      "text/plain": [
       "<Worksheet \"Employee\">"
      ]
     },
     "execution_count": 19,
     "metadata": {},
     "output_type": "execute_result"
    }
   ],
   "source": [
    "sheet"
   ]
  },
  {
   "cell_type": "code",
   "execution_count": 20,
   "id": "80d88c7f",
   "metadata": {},
   "outputs": [
    {
     "data": {
      "text/plain": [
       "'Employee'"
      ]
     },
     "execution_count": 20,
     "metadata": {},
     "output_type": "execute_result"
    }
   ],
   "source": [
    "sheet.title"
   ]
  },
  {
   "cell_type": "code",
   "execution_count": 21,
   "id": "71484f04",
   "metadata": {},
   "outputs": [
    {
     "data": {
      "text/plain": [
       "<Cell 'Employee'.A1>"
      ]
     },
     "execution_count": 21,
     "metadata": {},
     "output_type": "execute_result"
    }
   ],
   "source": [
    "sheet[\"A1\"]"
   ]
  },
  {
   "cell_type": "code",
   "execution_count": 22,
   "id": "81c67b8c",
   "metadata": {},
   "outputs": [
    {
     "data": {
      "text/plain": [
       "'Name'"
      ]
     },
     "execution_count": 22,
     "metadata": {},
     "output_type": "execute_result"
    }
   ],
   "source": [
    "sheet[\"A1\"].value"
   ]
  },
  {
   "cell_type": "code",
   "execution_count": 23,
   "id": "31b30437",
   "metadata": {},
   "outputs": [
    {
     "data": {
      "text/plain": [
       "'Rajeev Singh'"
      ]
     },
     "execution_count": 23,
     "metadata": {},
     "output_type": "execute_result"
    }
   ],
   "source": [
    "sheet[\"A2\"].value\n"
   ]
  },
  {
   "cell_type": "code",
   "execution_count": 24,
   "id": "e49f9202",
   "metadata": {},
   "outputs": [
    {
     "data": {
      "text/plain": [
       "<Cell 'Employee'.F10>"
      ]
     },
     "execution_count": 24,
     "metadata": {},
     "output_type": "execute_result"
    }
   ],
   "source": [
    "sheet.cell(row=10, column=6)"
   ]
  },
  {
   "cell_type": "code",
   "execution_count": 25,
   "id": "5121683a",
   "metadata": {},
   "outputs": [
    {
     "data": {
      "text/plain": [
       "datetime.datetime(1965, 1, 13, 0, 0)"
      ]
     },
     "execution_count": 25,
     "metadata": {},
     "output_type": "execute_result"
    }
   ],
   "source": [
    "sheet.cell(row=3, column=3).value"
   ]
  },
  {
   "cell_type": "code",
   "execution_count": 26,
   "id": "d1030554",
   "metadata": {},
   "outputs": [
    {
     "data": {
      "text/plain": [
       "((<Cell 'Employee'.A1>, <Cell 'Employee'.B1>, <Cell 'Employee'.C1>),\n",
       " (<Cell 'Employee'.A2>, <Cell 'Employee'.B2>, <Cell 'Employee'.C2>))"
      ]
     },
     "execution_count": 26,
     "metadata": {},
     "output_type": "execute_result"
    }
   ],
   "source": [
    "sheet[\"A1:C2\"]"
   ]
  },
  {
   "cell_type": "code",
   "execution_count": 27,
   "id": "060fff8c",
   "metadata": {},
   "outputs": [
    {
     "name": "stdout",
     "output_type": "stream",
     "text": [
      "('Name', 'Email', 'Date Of Birth', 'Salary', 'Department', None)\n",
      "('Rajeev Singh', 'rajeev@example.com', datetime.datetime(1992, 7, 21, 0, 0), 1500000.0, 'Software Engineering', None)\n",
      "('John Doe', 'john@example.com', datetime.datetime(1965, 1, 13, 0, 0), 1300000.0, 'Sales', None)\n",
      "('Jack Sparrow', 'jack@example.com', datetime.datetime(1986, 12, 19, 0, 0), 1000000.0, 'HR', None)\n",
      "('Steven Cook', 'steven@example.com', datetime.datetime(1994, 5, 4, 0, 0), 1200000.0, 'Marketing', None)\n",
      "(None, None, None, None, None, None)\n",
      "(None, None, None, None, None, None)\n",
      "(None, None, None, None, None, None)\n",
      "(None, None, None, None, None, None)\n",
      "(None, None, None, None, None, None)\n"
     ]
    }
   ],
   "source": [
    "for row in sheet.iter_rows(values_only=True):\n",
    "    print(row)"
   ]
  },
  {
   "cell_type": "markdown",
   "id": "8cb8922b",
   "metadata": {},
   "source": [
    "## You can read Excel file as DataFrame using Pandas"
   ]
  },
  {
   "cell_type": "code",
   "execution_count": 28,
   "id": "a29bbcb8",
   "metadata": {},
   "outputs": [],
   "source": [
    "excel_df = pd.read_excel('data/sample-xlsx-file.xlsx')"
   ]
  },
  {
   "cell_type": "code",
   "execution_count": 29,
   "id": "c76e7c16",
   "metadata": {},
   "outputs": [
    {
     "data": {
      "text/html": [
       "<div>\n",
       "<style scoped>\n",
       "    .dataframe tbody tr th:only-of-type {\n",
       "        vertical-align: middle;\n",
       "    }\n",
       "\n",
       "    .dataframe tbody tr th {\n",
       "        vertical-align: top;\n",
       "    }\n",
       "\n",
       "    .dataframe thead th {\n",
       "        text-align: right;\n",
       "    }\n",
       "</style>\n",
       "<table border=\"1\" class=\"dataframe\">\n",
       "  <thead>\n",
       "    <tr style=\"text-align: right;\">\n",
       "      <th></th>\n",
       "      <th>Name</th>\n",
       "      <th>Email</th>\n",
       "      <th>Date Of Birth</th>\n",
       "      <th>Salary</th>\n",
       "      <th>Department</th>\n",
       "    </tr>\n",
       "  </thead>\n",
       "  <tbody>\n",
       "    <tr>\n",
       "      <th>0</th>\n",
       "      <td>Rajeev Singh</td>\n",
       "      <td>rajeev@example.com</td>\n",
       "      <td>1992-07-21</td>\n",
       "      <td>1500000.0</td>\n",
       "      <td>Software Engineering</td>\n",
       "    </tr>\n",
       "    <tr>\n",
       "      <th>1</th>\n",
       "      <td>John Doe</td>\n",
       "      <td>john@example.com</td>\n",
       "      <td>1965-01-13</td>\n",
       "      <td>1300000.0</td>\n",
       "      <td>Sales</td>\n",
       "    </tr>\n",
       "    <tr>\n",
       "      <th>2</th>\n",
       "      <td>Jack Sparrow</td>\n",
       "      <td>jack@example.com</td>\n",
       "      <td>1986-12-19</td>\n",
       "      <td>1000000.0</td>\n",
       "      <td>HR</td>\n",
       "    </tr>\n",
       "    <tr>\n",
       "      <th>3</th>\n",
       "      <td>Steven Cook</td>\n",
       "      <td>steven@example.com</td>\n",
       "      <td>1994-05-04</td>\n",
       "      <td>1200000.0</td>\n",
       "      <td>Marketing</td>\n",
       "    </tr>\n",
       "  </tbody>\n",
       "</table>\n",
       "</div>"
      ],
      "text/plain": [
       "           Name               Email Date Of Birth     Salary  \\\n",
       "0  Rajeev Singh  rajeev@example.com    1992-07-21  1500000.0   \n",
       "1      John Doe    john@example.com    1965-01-13  1300000.0   \n",
       "2  Jack Sparrow    jack@example.com    1986-12-19  1000000.0   \n",
       "3   Steven Cook  steven@example.com    1994-05-04  1200000.0   \n",
       "\n",
       "             Department  \n",
       "0  Software Engineering  \n",
       "1                 Sales  \n",
       "2                    HR  \n",
       "3             Marketing  "
      ]
     },
     "execution_count": 29,
     "metadata": {},
     "output_type": "execute_result"
    }
   ],
   "source": [
    "excel_df"
   ]
  },
  {
   "cell_type": "code",
   "execution_count": 30,
   "id": "d7b78a69",
   "metadata": {},
   "outputs": [],
   "source": [
    "excel_df.to_excel('data/sample-xlsx-file-modifeid.xlsx')"
   ]
  },
  {
   "cell_type": "markdown",
   "id": "100c24e1",
   "metadata": {},
   "source": [
    "# Working with AVRO\n",
    "Apache Avro is a data serialization format. We can store data as .avro files on disk.\n",
    "\n",
    "Avro files are typically used with Spark but Spark is completely independent of Avro.\n",
    "\n",
    "Avro is a row-based format that is suitable for evolving data schemas. One benefit of using Avro is that schema and metadata travels with the data.\n",
    "\n",
    "If you have an .avro file, you have the schema of the data as well.\n",
    "\n",
    "The Apache Avro Specification provides easy-to-read yet detailed information."
   ]
  },
  {
   "cell_type": "code",
   "execution_count": 31,
   "id": "d25a415c",
   "metadata": {},
   "outputs": [
    {
     "name": "stdout",
     "output_type": "stream",
     "text": [
      "Requirement already satisfied: avro-python3 in c:\\users\\chintu\\appdata\\local\\programs\\python\\python39\\lib\\site-packages (1.10.2)\n",
      "Note: you may need to restart the kernel to use updated packages.\n"
     ]
    },
    {
     "name": "stderr",
     "output_type": "stream",
     "text": [
      "WARNING: You are using pip version 21.1.3; however, version 23.1.2 is available.\n",
      "You should consider upgrading via the 'c:\\users\\chintu\\appdata\\local\\programs\\python\\python39\\python.exe -m pip install --upgrade pip' command.\n"
     ]
    }
   ],
   "source": [
    "pip install avro-python3"
   ]
  },
  {
   "cell_type": "code",
   "execution_count": 32,
   "id": "90fc3a79",
   "metadata": {},
   "outputs": [],
   "source": [
    "# Python 3 with `avro-python3` package available\n",
    "import copy\n",
    "import json\n",
    "import avro\n",
    "from avro.datafile import DataFileWriter, DataFileReader\n",
    "from avro.io import DatumWriter, DatumReader"
   ]
  },
  {
   "cell_type": "code",
   "execution_count": 33,
   "id": "0aba8108",
   "metadata": {},
   "outputs": [],
   "source": [
    "# Note that we combined namespace and name to get \"full name\"\n",
    "schema = {\n",
    "    'name': 'avro.example.User',\n",
    "    'type': 'record',\n",
    "    'fields': [\n",
    "        {'name': 'name', 'type': 'string'},\n",
    "        {'name': 'age', 'type': 'int'}\n",
    "    ]\n",
    "}\n",
    "\n",
    "# Parse the schema so we can use it to write the data\n",
    "schema_parsed = avro.schema.Parse(json.dumps(schema))"
   ]
  },
  {
   "cell_type": "code",
   "execution_count": 34,
   "id": "a56e4b1a",
   "metadata": {},
   "outputs": [
    {
     "data": {
      "text/plain": [
       "<avro.schema.RecordSchema at 0x1d62fd47220>"
      ]
     },
     "execution_count": 34,
     "metadata": {},
     "output_type": "execute_result"
    }
   ],
   "source": [
    "schema_parsed"
   ]
  },
  {
   "cell_type": "code",
   "execution_count": 35,
   "id": "43fb1511",
   "metadata": {},
   "outputs": [],
   "source": [
    "# Write data to an avro file\n",
    "with open('users.avro', 'wb') as f:\n",
    "    writer = DataFileWriter(f, DatumWriter(), schema_parsed)\n",
    "    writer.append({'name': 'Pierre-Simon Laplace', 'age': 77})\n",
    "    writer.append({'name': 'John von Neumann', 'age': 53})\n",
    "    writer.close()"
   ]
  },
  {
   "cell_type": "code",
   "execution_count": 36,
   "id": "12ec6e8d",
   "metadata": {},
   "outputs": [
    {
     "name": "stdout",
     "output_type": "stream",
     "text": [
      "Schema that we specified:\n",
      " {'name': 'avro.example.User', 'type': 'record', 'fields': [{'name': 'name', 'type': 'string'}, {'name': 'age', 'type': 'int'}]}\n",
      "Schema that we parsed:\n",
      " {\"type\": \"record\", \"name\": \"User\", \"namespace\": \"avro.example\", \"fields\": [{\"type\": \"string\", \"name\": \"name\"}, {\"type\": \"int\", \"name\": \"age\"}]}\n",
      "Schema from users.avro file:\n",
      " {'type': 'record', 'name': 'User', 'namespace': 'avro.example', 'fields': [{'type': 'string', 'name': 'name'}, {'type': 'int', 'name': 'age'}]}\n",
      "Users:\n",
      " [{'name': 'Pierre-Simon Laplace', 'age': 77}, {'name': 'John von Neumann', 'age': 53}]\n"
     ]
    }
   ],
   "source": [
    "# Read data from an avro file\n",
    "with open('users.avro', 'rb') as f:\n",
    "    reader = DataFileReader(f, DatumReader())\n",
    "    metadata = copy.deepcopy(reader.meta)\n",
    "    schema_from_file = json.loads(metadata['avro.schema'])\n",
    "    users = [user for user in reader]\n",
    "    reader.close()\n",
    "\n",
    "print(f'Schema that we specified:\\n {schema}')\n",
    "print(f'Schema that we parsed:\\n {schema_parsed}')\n",
    "print(f'Schema from users.avro file:\\n {schema_from_file}')\n",
    "print(f'Users:\\n {users}')"
   ]
  },
  {
   "cell_type": "markdown",
   "id": "8ffe4feb",
   "metadata": {},
   "source": [
    "##    Reading Avro Using Pandas\n",
    "\n",
    "Avro format simply requires a schema and a list of records. We don’t need a dataframe to handle Avro files.\n",
    "\n",
    "However, we can write a `pandas` dataframe into an Avro file or read an Avro file into a `pandas` dataframe.\n",
    "\n",
    "To begin with, we can always represent a dataframe as a list of records and vice-versa"
   ]
  },
  {
   "cell_type": "code",
   "execution_count": 37,
   "id": "f65f74bd",
   "metadata": {},
   "outputs": [
    {
     "name": "stdout",
     "output_type": "stream",
     "text": [
      "Requirement already satisfied: pandavro in c:\\users\\chintu\\appdata\\local\\programs\\python\\python39\\lib\\site-packages (1.7.2)Note: you may need to restart the kernel to use updated packages.\n",
      "Requirement already satisfied: fastavro~=1.5.1 in c:\\users\\chintu\\appdata\\local\\programs\\python\\python39\\lib\\site-packages (from pandavro) (1.5.4)\n",
      "Requirement already satisfied: numpy>=1.15.4 in c:\\users\\chintu\\appdata\\local\\programs\\python\\python39\\lib\\site-packages (from pandavro) (1.19.5)\n",
      "Requirement already satisfied: pandas>=1.1 in c:\\users\\chintu\\appdata\\local\\programs\\python\\python39\\lib\\site-packages (from pandavro) (1.3.1)\n",
      "Requirement already satisfied: pytz>=2017.3 in c:\\users\\chintu\\appdata\\local\\programs\\python\\python39\\lib\\site-packages (from pandas>=1.1->pandavro) (2021.1)\n",
      "Requirement already satisfied: python-dateutil>=2.7.3 in c:\\users\\chintu\\appdata\\local\\programs\\python\\python39\\lib\\site-packages (from pandas>=1.1->pandavro) (2.8.1)\n",
      "Requirement already satisfied: six>=1.5 in c:\\users\\chintu\\appdata\\local\\programs\\python\\python39\\lib\\site-packages (from python-dateutil>=2.7.3->pandas>=1.1->pandavro) (1.15.0)\n",
      "\n"
     ]
    },
    {
     "name": "stderr",
     "output_type": "stream",
     "text": [
      "WARNING: You are using pip version 21.1.3; however, version 23.1.2 is available.\n",
      "You should consider upgrading via the 'c:\\users\\chintu\\appdata\\local\\programs\\python\\python39\\python.exe -m pip install --upgrade pip' command.\n"
     ]
    }
   ],
   "source": [
    "pip install pandavro"
   ]
  },
  {
   "cell_type": "code",
   "execution_count": 43,
   "id": "87512b58",
   "metadata": {},
   "outputs": [],
   "source": [
    "\n",
    "import copy\n",
    "import json\n",
    "import pandas as pd\n",
    "import pandavro as pdx\n",
    "from avro.datafile import DataFileReader\n",
    "from avro.io import DatumReader"
   ]
  },
  {
   "cell_type": "code",
   "execution_count": 44,
   "id": "a6c30fe8",
   "metadata": {},
   "outputs": [
    {
     "name": "stdout",
     "output_type": "stream",
     "text": [
      "                   name  age\n",
      "0  Pierre-Simon Laplace   77\n",
      "1      John von Neumann   53\n"
     ]
    }
   ],
   "source": [
    "# Data to be saved\n",
    "users = [{'name': 'Pierre-Simon Laplace', 'age': 77},\n",
    "         {'name': 'John von Neumann', 'age': 53}]\n",
    "users_df = pd.DataFrame.from_records(users)\n",
    "print(users_df)"
   ]
  },
  {
   "cell_type": "code",
   "execution_count": 45,
   "id": "e0d17d8f",
   "metadata": {},
   "outputs": [],
   "source": [
    "pdx.to_avro('data/users_test.avro', users_df)"
   ]
  },
  {
   "cell_type": "code",
   "execution_count": 41,
   "id": "34e541c6",
   "metadata": {},
   "outputs": [
    {
     "name": "stdout",
     "output_type": "stream",
     "text": [
      "<class 'pandas.core.frame.DataFrame'>\n"
     ]
    }
   ],
   "source": [
    "# Read the data back\n",
    "users_df_redux = pdx.from_avro('data/users_test.avro')\n",
    "print(type(users_df_redux))\n",
    "# <class 'pandas.core.frame.DataFrame'>"
   ]
  },
  {
   "cell_type": "code",
   "execution_count": 42,
   "id": "75d72332",
   "metadata": {},
   "outputs": [
    {
     "name": "stdout",
     "output_type": "stream",
     "text": [
      "{'type': 'record', 'name': 'User', 'namespace': 'avro.example', 'fields': [{'type': 'string', 'name': 'name'}, {'type': 'int', 'name': 'age'}]}\n"
     ]
    }
   ],
   "source": [
    "# Check the schema for \"users.avro\"\n",
    "with open('users.avro', 'rb') as f:\n",
    "    reader = DataFileReader(f, DatumReader())\n",
    "    metadata = copy.deepcopy(reader.meta)\n",
    "    schema_from_file = json.loads(metadata['avro.schema'])\n",
    "    reader.close()\n",
    "print(schema_from_file)"
   ]
  }
 ],
 "metadata": {
  "kernelspec": {
   "display_name": "Python 3 (ipykernel)",
   "language": "python",
   "name": "python3"
  },
  "language_info": {
   "codemirror_mode": {
    "name": "ipython",
    "version": 3
   },
   "file_extension": ".py",
   "mimetype": "text/x-python",
   "name": "python",
   "nbconvert_exporter": "python",
   "pygments_lexer": "ipython3",
   "version": "3.9.5"
  }
 },
 "nbformat": 4,
 "nbformat_minor": 5
}
