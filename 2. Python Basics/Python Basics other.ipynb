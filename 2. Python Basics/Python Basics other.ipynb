{
 "cells": [
  {
   "cell_type": "code",
   "execution_count": 2,
   "id": "f74300d0",
   "metadata": {},
   "outputs": [
    {
     "name": "stdout",
     "output_type": "stream",
     "text": [
      "Hello DATA WORLD\n"
     ]
    }
   ],
   "source": [
    "print(\"Hello DATA WORLD\")"
   ]
  },
  {
   "cell_type": "code",
   "execution_count": 9,
   "id": "d3d3ee0c",
   "metadata": {},
   "outputs": [
    {
     "ename": "AttributeError",
     "evalue": "type object 'str' has no attribute 'a'",
     "output_type": "error",
     "traceback": [
      "\u001b[1;31m---------------------------------------------------------------------------\u001b[0m",
      "\u001b[1;31mAttributeError\u001b[0m                            Traceback (most recent call last)",
      "\u001b[1;32m~\\AppData\\Local\\Temp/ipykernel_7608/3414319056.py\u001b[0m in \u001b[0;36m<module>\u001b[1;34m\u001b[0m\n\u001b[0;32m      1\u001b[0m \u001b[0ma\u001b[0m \u001b[1;33m=\u001b[0m \u001b[1;34m\"Hello DATA WOrld!\"\u001b[0m\u001b[1;33m\u001b[0m\u001b[1;33m\u001b[0m\u001b[0m\n\u001b[1;32m----> 2\u001b[1;33m \u001b[0mstr\u001b[0m\u001b[1;33m.\u001b[0m\u001b[0ma\u001b[0m\u001b[1;33m[\u001b[0m\u001b[1;36m0\u001b[0m\u001b[1;33m]\u001b[0m\u001b[1;33m\u001b[0m\u001b[1;33m\u001b[0m\u001b[0m\n\u001b[0m",
      "\u001b[1;31mAttributeError\u001b[0m: type object 'str' has no attribute 'a'"
     ]
    }
   ],
   "source": [
    "a = \"Hello DATA WOrld!\"\n",
    "str.a[0]"
   ]
  },
  {
   "cell_type": "code",
   "execution_count": 5,
   "id": "df1b7574",
   "metadata": {},
   "outputs": [],
   "source": [
    "name = \"Python\""
   ]
  },
  {
   "cell_type": "code",
   "execution_count": 6,
   "id": "11cdc8b8",
   "metadata": {},
   "outputs": [],
   "source": [
    "sl = name[0:3]"
   ]
  },
  {
   "cell_type": "code",
   "execution_count": 7,
   "id": "927f7b5d",
   "metadata": {},
   "outputs": [
    {
     "name": "stdout",
     "output_type": "stream",
     "text": [
      "Pyt\n"
     ]
    }
   ],
   "source": [
    "print (sl)"
   ]
  },
  {
   "cell_type": "code",
   "execution_count": 8,
   "id": "6c9e33c8",
   "metadata": {},
   "outputs": [
    {
     "data": {
      "text/plain": [
       "6"
      ]
     },
     "execution_count": 8,
     "metadata": {},
     "output_type": "execute_result"
    }
   ],
   "source": [
    "len(name)"
   ]
  },
  {
   "cell_type": "code",
   "execution_count": 10,
   "id": "2883cb8a",
   "metadata": {},
   "outputs": [
    {
     "data": {
      "text/plain": [
       "'Pytho'"
      ]
     },
     "execution_count": 10,
     "metadata": {},
     "output_type": "execute_result"
    }
   ],
   "source": [
    "name[0:5]"
   ]
  },
  {
   "cell_type": "code",
   "execution_count": 11,
   "id": "ff1010b6",
   "metadata": {},
   "outputs": [],
   "source": [
    "s = 'Hello World'"
   ]
  },
  {
   "cell_type": "code",
   "execution_count": 15,
   "id": "3eb0f7d2",
   "metadata": {},
   "outputs": [
    {
     "name": "stdout",
     "output_type": "stream",
     "text": [
      "HloW\n"
     ]
    }
   ],
   "source": [
    "print(s[0:8:2])"
   ]
  },
  {
   "cell_type": "code",
   "execution_count": 16,
   "id": "de960961",
   "metadata": {},
   "outputs": [
    {
     "name": "stdout",
     "output_type": "stream",
     "text": [
      "d\n"
     ]
    }
   ],
   "source": [
    "print(s[-1])"
   ]
  },
  {
   "cell_type": "code",
   "execution_count": 20,
   "id": "c03ac911",
   "metadata": {},
   "outputs": [],
   "source": [
    "s1 = 'Hello'\n",
    "s2 = 'World'\n"
   ]
  },
  {
   "cell_type": "code",
   "execution_count": 24,
   "id": "8fe6a282",
   "metadata": {},
   "outputs": [
    {
     "name": "stdout",
     "output_type": "stream",
     "text": [
      "Hello World\n"
     ]
    }
   ],
   "source": [
    "print( s1 + ' ' + s2)"
   ]
  },
  {
   "cell_type": "code",
   "execution_count": 27,
   "id": "fb9c062e",
   "metadata": {},
   "outputs": [
    {
     "name": "stdout",
     "output_type": "stream",
     "text": [
      "Data Data Data Data Data Data Data Data Data Data Data Data Data Data Data \n"
     ]
    }
   ],
   "source": [
    "print (\"Data \"*15)"
   ]
  },
  {
   "cell_type": "code",
   "execution_count": 28,
   "id": "1a96bab8",
   "metadata": {},
   "outputs": [],
   "source": [
    "str1 = \"FACE\""
   ]
  },
  {
   "cell_type": "code",
   "execution_count": 30,
   "id": "54053f2c",
   "metadata": {},
   "outputs": [
    {
     "name": "stdout",
     "output_type": "stream",
     "text": [
      "AC\n"
     ]
    }
   ],
   "source": [
    "print(str1[-3:-1])"
   ]
  },
  {
   "cell_type": "code",
   "execution_count": 33,
   "id": "123d92eb",
   "metadata": {},
   "outputs": [],
   "source": [
    "s = \"Nameste World\""
   ]
  },
  {
   "cell_type": "code",
   "execution_count": 35,
   "id": "6d77d002",
   "metadata": {},
   "outputs": [
    {
     "name": "stdout",
     "output_type": "stream",
     "text": [
      "ste\n"
     ]
    }
   ],
   "source": [
    "print(s[4:7])"
   ]
  },
  {
   "cell_type": "code",
   "execution_count": 37,
   "id": "304deebf",
   "metadata": {},
   "outputs": [],
   "source": [
    "name = \"Yashwant\"\n",
    "age = 24\n",
    "married = False\n",
    "\n"
   ]
  },
  {
   "cell_type": "code",
   "execution_count": 39,
   "id": "beff9296",
   "metadata": {},
   "outputs": [
    {
     "name": "stdout",
     "output_type": "stream",
     "text": [
      "My Name is Yashwant, My age is 24, and it is False that I am married\n"
     ]
    }
   ],
   "source": [
    "print(\"My Name is %s, My age is %s, and it is %s that I am married\" %(name, age, married))"
   ]
  },
  {
   "cell_type": "markdown",
   "id": "4f4c9d7b",
   "metadata": {},
   "source": [
    "# Basic Airthmetic\n"
   ]
  },
  {
   "cell_type": "code",
   "execution_count": 1,
   "id": "3321dcca",
   "metadata": {},
   "outputs": [
    {
     "name": "stdout",
     "output_type": "stream",
     "text": [
      "4\n"
     ]
    }
   ],
   "source": [
    "print(round(3.5))"
   ]
  },
  {
   "cell_type": "code",
   "execution_count": 1,
   "id": "e719e653",
   "metadata": {},
   "outputs": [],
   "source": [
    "listtuple = (\"apple\", \"boy\", \"cunning\")"
   ]
  },
  {
   "cell_type": "code",
   "execution_count": 2,
   "id": "c24a2cbf",
   "metadata": {},
   "outputs": [
    {
     "name": "stdout",
     "output_type": "stream",
     "text": [
      "('apple', 'boy', 'cunning')\n"
     ]
    }
   ],
   "source": [
    "print(listtuple)"
   ]
  },
  {
   "cell_type": "code",
   "execution_count": 3,
   "id": "cd9fe838",
   "metadata": {},
   "outputs": [
    {
     "name": "stdout",
     "output_type": "stream",
     "text": [
      "<class 'tuple'>\n"
     ]
    }
   ],
   "source": [
    "print(type(listtuple))"
   ]
  },
  {
   "cell_type": "code",
   "execution_count": 5,
   "id": "d13ca343",
   "metadata": {},
   "outputs": [],
   "source": [
    "list = [2, \"parrot\", 8, [1,2,3]]"
   ]
  },
  {
   "cell_type": "code",
   "execution_count": 6,
   "id": "c5cfdb72",
   "metadata": {},
   "outputs": [
    {
     "name": "stdout",
     "output_type": "stream",
     "text": [
      "[2, 'parrot', 8, [1, 2, 3]]\n"
     ]
    }
   ],
   "source": [
    "print(list)"
   ]
  },
  {
   "cell_type": "code",
   "execution_count": 8,
   "id": "3ead117c",
   "metadata": {},
   "outputs": [
    {
     "name": "stdout",
     "output_type": "stream",
     "text": [
      "<class 'list'>\n"
     ]
    }
   ],
   "source": [
    "print(type(list))"
   ]
  },
  {
   "cell_type": "code",
   "execution_count": 10,
   "id": "1e36a386",
   "metadata": {},
   "outputs": [
    {
     "ename": "NameError",
     "evalue": "name 'count' is not defined",
     "output_type": "error",
     "traceback": [
      "\u001b[1;31m---------------------------------------------------------------------------\u001b[0m",
      "\u001b[1;31mNameError\u001b[0m                                 Traceback (most recent call last)",
      "\u001b[1;32m~\\AppData\\Local\\Temp/ipykernel_12048/1958007854.py\u001b[0m in \u001b[0;36m<module>\u001b[1;34m\u001b[0m\n\u001b[1;32m----> 1\u001b[1;33m \u001b[0mcount\u001b[0m\u001b[1;33m.\u001b[0m\u001b[0mlist\u001b[0m\u001b[1;33m(\u001b[0m\u001b[1;36m8\u001b[0m\u001b[1;33m)\u001b[0m\u001b[1;33m\u001b[0m\u001b[1;33m\u001b[0m\u001b[0m\n\u001b[0m",
      "\u001b[1;31mNameError\u001b[0m: name 'count' is not defined"
     ]
    }
   ],
   "source": [
    "count.list(8)"
   ]
  },
  {
   "cell_type": "code",
   "execution_count": 15,
   "id": "34fbdeb7",
   "metadata": {},
   "outputs": [
    {
     "name": "stdout",
     "output_type": "stream",
     "text": [
      "1\n"
     ]
    }
   ],
   "source": [
    "print(list.count('parrot'))"
   ]
  },
  {
   "cell_type": "code",
   "execution_count": 25,
   "id": "d2831191",
   "metadata": {},
   "outputs": [],
   "source": [
    "my = {'name':'papu', 'study':'business', 'rollno':5 }"
   ]
  },
  {
   "cell_type": "markdown",
   "id": "a46bf8af",
   "metadata": {},
   "source": []
  },
  {
   "cell_type": "code",
   "execution_count": 26,
   "id": "bbf7a0c4",
   "metadata": {},
   "outputs": [
    {
     "data": {
      "text/plain": [
       "5"
      ]
     },
     "execution_count": 26,
     "metadata": {},
     "output_type": "execute_result"
    }
   ],
   "source": [
    "my ['rollno']"
   ]
  },
  {
   "cell_type": "code",
   "execution_count": 22,
   "id": "a44c5216",
   "metadata": {},
   "outputs": [
    {
     "data": {
      "text/plain": [
       "'business'"
      ]
     },
     "execution_count": 22,
     "metadata": {},
     "output_type": "execute_result"
    }
   ],
   "source": [
    "my['study']"
   ]
  },
  {
   "cell_type": "code",
   "execution_count": 23,
   "id": "fcc1fbfe",
   "metadata": {},
   "outputs": [
    {
     "data": {
      "text/plain": [
       "'5'"
      ]
     },
     "execution_count": 23,
     "metadata": {},
     "output_type": "execute_result"
    }
   ],
   "source": [
    "my['rollno']"
   ]
  },
  {
   "cell_type": "code",
   "execution_count": 27,
   "id": "89aaff9d",
   "metadata": {},
   "outputs": [],
   "source": [
    "l = [1,1,1,1,1,2,3,3,3,3]"
   ]
  },
  {
   "cell_type": "code",
   "execution_count": 32,
   "id": "58cfe29d",
   "metadata": {},
   "outputs": [],
   "source": [
    "l_sets = set(l)"
   ]
  },
  {
   "cell_type": "code",
   "execution_count": 33,
   "id": "b56ab5a4",
   "metadata": {},
   "outputs": [
    {
     "data": {
      "text/plain": [
       "{1, 2, 3}"
      ]
     },
     "execution_count": 33,
     "metadata": {},
     "output_type": "execute_result"
    }
   ],
   "source": [
    "l_sets"
   ]
  },
  {
   "cell_type": "code",
   "execution_count": 34,
   "id": "c55d6a9e",
   "metadata": {},
   "outputs": [],
   "source": [
    "x = set()"
   ]
  },
  {
   "cell_type": "code",
   "execution_count": 36,
   "id": "8cc02719",
   "metadata": {},
   "outputs": [],
   "source": [
    "x.add(1)"
   ]
  },
  {
   "cell_type": "code",
   "execution_count": 37,
   "id": "84e96663",
   "metadata": {},
   "outputs": [],
   "source": [
    "x.add(32)"
   ]
  },
  {
   "cell_type": "code",
   "execution_count": 38,
   "id": "1ce2e5cb",
   "metadata": {},
   "outputs": [
    {
     "data": {
      "text/plain": [
       "{1, 32}"
      ]
     },
     "execution_count": 38,
     "metadata": {},
     "output_type": "execute_result"
    }
   ],
   "source": [
    "x"
   ]
  },
  {
   "cell_type": "code",
   "execution_count": 39,
   "id": "2ffac988",
   "metadata": {},
   "outputs": [],
   "source": [
    " a = set()"
   ]
  },
  {
   "cell_type": "code",
   "execution_count": 41,
   "id": "e0592aee",
   "metadata": {},
   "outputs": [],
   "source": [
    "a.add(1)\n",
    "a.add(2)\n",
    "a.add(3)\n",
    "a.add(4)"
   ]
  },
  {
   "cell_type": "code",
   "execution_count": 42,
   "id": "a829eae6",
   "metadata": {},
   "outputs": [
    {
     "data": {
      "text/plain": [
       "{1, 2, 3, 4}"
      ]
     },
     "execution_count": 42,
     "metadata": {},
     "output_type": "execute_result"
    }
   ],
   "source": [
    "a"
   ]
  },
  {
   "cell_type": "code",
   "execution_count": 43,
   "id": "19075333",
   "metadata": {},
   "outputs": [],
   "source": [
    "a.remove(4)"
   ]
  },
  {
   "cell_type": "code",
   "execution_count": 44,
   "id": "4b82d954",
   "metadata": {},
   "outputs": [
    {
     "data": {
      "text/plain": [
       "{1, 2, 3}"
      ]
     },
     "execution_count": 44,
     "metadata": {},
     "output_type": "execute_result"
    }
   ],
   "source": [
    "a"
   ]
  },
  {
   "cell_type": "code",
   "execution_count": 45,
   "id": "137e2c44",
   "metadata": {},
   "outputs": [
    {
     "ename": "SyntaxError",
     "evalue": "invalid syntax (Temp/ipykernel_12048/13638845.py, line 1)",
     "output_type": "error",
     "traceback": [
      "\u001b[1;36m  File \u001b[1;32m\"C:\\Users\\chintu\\AppData\\Local\\Temp/ipykernel_12048/13638845.py\"\u001b[1;36m, line \u001b[1;32m1\u001b[0m\n\u001b[1;33m    for i in range(0, 7)\u001b[0m\n\u001b[1;37m                        ^\u001b[0m\n\u001b[1;31mSyntaxError\u001b[0m\u001b[1;31m:\u001b[0m invalid syntax\n"
     ]
    }
   ],
   "source": [
    "for i in range(0, 7)\n",
    "pritn(\"hello\")"
   ]
  },
  {
   "cell_type": "code",
   "execution_count": 46,
   "id": "8c83df3a",
   "metadata": {},
   "outputs": [
    {
     "ename": "SyntaxError",
     "evalue": "invalid syntax (Temp/ipykernel_12048/1956951220.py, line 1)",
     "output_type": "error",
     "traceback": [
      "\u001b[1;36m  File \u001b[1;32m\"C:\\Users\\chintu\\AppData\\Local\\Temp/ipykernel_12048/1956951220.py\"\u001b[1;36m, line \u001b[1;32m1\u001b[0m\n\u001b[1;33m    for i in range(0, 7)\u001b[0m\n\u001b[1;37m                        ^\u001b[0m\n\u001b[1;31mSyntaxError\u001b[0m\u001b[1;31m:\u001b[0m invalid syntax\n"
     ]
    }
   ],
   "source": [
    "for i in range(0, 7)"
   ]
  },
  {
   "cell_type": "code",
   "execution_count": 57,
   "id": "740b662c",
   "metadata": {},
   "outputs": [
    {
     "name": "stdout",
     "output_type": "stream",
     "text": [
      "0\n",
      "1\n",
      "3\n",
      "4\n",
      "5\n",
      "6\n",
      "7\n",
      "8\n",
      "9\n"
     ]
    }
   ],
   "source": [
    "for i in range(10):\n",
    "    if i == 2:\n",
    "        continue\n",
    "    print(i)"
   ]
  },
  {
   "cell_type": "code",
   "execution_count": 58,
   "id": "bf4a5d22",
   "metadata": {},
   "outputs": [],
   "source": [
    "import math\n"
   ]
  },
  {
   "cell_type": "code",
   "execution_count": 59,
   "id": "a92f35fc",
   "metadata": {},
   "outputs": [
    {
     "data": {
      "text/plain": [
       "4.0"
      ]
     },
     "execution_count": 59,
     "metadata": {},
     "output_type": "execute_result"
    }
   ],
   "source": [
    "math.pow(2,2)"
   ]
  },
  {
   "cell_type": "code",
   "execution_count": 60,
   "id": "c3570771",
   "metadata": {},
   "outputs": [],
   "source": [
    "names = [\"Ravi\", \"Pooja\", \"Vijay\", \"Kiran\"]"
   ]
  },
  {
   "cell_type": "code",
   "execution_count": 61,
   "id": "3ad1f006",
   "metadata": {},
   "outputs": [
    {
     "data": {
      "text/plain": [
       "['Ravi', 'Pooja', 'Vijay', 'Kiran']"
      ]
     },
     "execution_count": 61,
     "metadata": {},
     "output_type": "execute_result"
    }
   ],
   "source": [
    "names"
   ]
  },
  {
   "cell_type": "code",
   "execution_count": 62,
   "id": "c5bf4ece",
   "metadata": {},
   "outputs": [],
   "source": [
    "new_list = []\n",
    "for name in names:\n",
    "    new_list.append(\"hello\" + name)"
   ]
  },
  {
   "cell_type": "code",
   "execution_count": 63,
   "id": "aa0a3a9d",
   "metadata": {},
   "outputs": [
    {
     "data": {
      "text/plain": [
       "['helloRavi', 'helloPooja', 'helloVijay', 'helloKiran']"
      ]
     },
     "execution_count": 63,
     "metadata": {},
     "output_type": "execute_result"
    }
   ],
   "source": [
    "new_list"
   ]
  },
  {
   "cell_type": "code",
   "execution_count": 64,
   "id": "00646f5a",
   "metadata": {},
   "outputs": [
    {
     "name": "stdout",
     "output_type": "stream",
     "text": [
      "['HelloRavi', 'HelloPooja', 'HelloVijay', 'HelloKiran']\n"
     ]
    }
   ],
   "source": [
    "names = [\"Ravi\", \"Pooja\", \"Vijay\", \"Kiran\"]\n",
    "hello = [\"Hello\" + name for name in names]\n",
    "print (hello)"
   ]
  },
  {
   "cell_type": "code",
   "execution_count": 68,
   "id": "998e416c",
   "metadata": {},
   "outputs": [
    {
     "data": {
      "text/plain": [
       "[32, 10, 54, 32]"
      ]
     },
     "execution_count": 68,
     "metadata": {},
     "output_type": "execute_result"
    }
   ],
   "source": [
    "numbers = [55, 32, 87, 99, 10, 54, 32]\n",
    "even = [num for num in numbers if num %2 == 0]\n",
    "even"
   ]
  },
  {
   "cell_type": "code",
   "execution_count": 69,
   "id": "c393c434",
   "metadata": {},
   "outputs": [
    {
     "data": {
      "text/plain": [
       "[(55, 3025), (87, 7569), (99, 9801)]"
      ]
     },
     "execution_count": 69,
     "metadata": {},
     "output_type": "execute_result"
    }
   ],
   "source": [
    "odd_numbers = [(num, num*num) for num in numbers if num %2 == 1]\n",
    "odd_numbers"
   ]
  },
  {
   "cell_type": "code",
   "execution_count": 76,
   "id": "065cf078",
   "metadata": {},
   "outputs": [
    {
     "name": "stdout",
     "output_type": "stream",
     "text": [
      "hello\n",
      "1 is not divisible by Zero\n",
      "bye world\n"
     ]
    }
   ],
   "source": [
    "print('hello')\n",
    "try:\n",
    "    1 / 0\n",
    "except ZeroDivisionError:\n",
    "        print('1 is not divisible by Zero')\n",
    "        \n",
    "print('bye world')\n",
    "\n",
    "    \n",
    "    \n",
    "   "
   ]
  },
  {
   "cell_type": "code",
   "execution_count": 77,
   "id": "f74107d2",
   "metadata": {},
   "outputs": [
    {
     "name": "stdout",
     "output_type": "stream",
     "text": [
      "C:\\Users\\chintu\\python-dataengineer\\2. Python Basics\n"
     ]
    }
   ],
   "source": [
    "import os\n",
    "print(os.path.abspath(os.curdir))"
   ]
  },
  {
   "cell_type": "code",
   "execution_count": 78,
   "id": "fe29645d",
   "metadata": {},
   "outputs": [
    {
     "ename": "FileNotFoundError",
     "evalue": "[Errno 2] No such file or directory: 'myfile.txt'",
     "output_type": "error",
     "traceback": [
      "\u001b[1;31m---------------------------------------------------------------------------\u001b[0m",
      "\u001b[1;31mFileNotFoundError\u001b[0m                         Traceback (most recent call last)",
      "\u001b[1;32m~\\AppData\\Local\\Temp/ipykernel_12048/960342971.py\u001b[0m in \u001b[0;36m<module>\u001b[1;34m\u001b[0m\n\u001b[1;32m----> 1\u001b[1;33m \u001b[1;32mwith\u001b[0m \u001b[0mopen\u001b[0m\u001b[1;33m(\u001b[0m\u001b[1;34m\"myfile.txt\"\u001b[0m\u001b[1;33m,\u001b[0m\u001b[1;34m'r'\u001b[0m\u001b[1;33m)\u001b[0m \u001b[1;32mas\u001b[0m \u001b[0mf\u001b[0m\u001b[1;33m:\u001b[0m\u001b[1;33m\u001b[0m\u001b[1;33m\u001b[0m\u001b[0m\n\u001b[0m\u001b[0;32m      2\u001b[0m     \u001b[1;32mfor\u001b[0m \u001b[0mline\u001b[0m \u001b[1;32min\u001b[0m \u001b[0mf\u001b[0m\u001b[1;33m:\u001b[0m\u001b[1;33m\u001b[0m\u001b[1;33m\u001b[0m\u001b[0m\n\u001b[0;32m      3\u001b[0m         \u001b[0mprint\u001b[0m\u001b[1;33m(\u001b[0m\u001b[0mline\u001b[0m\u001b[1;33m)\u001b[0m\u001b[1;33m\u001b[0m\u001b[1;33m\u001b[0m\u001b[0m\n\u001b[0;32m      4\u001b[0m \u001b[1;33m\u001b[0m\u001b[0m\n",
      "\u001b[1;31mFileNotFoundError\u001b[0m: [Errno 2] No such file or directory: 'myfile.txt'"
     ]
    }
   ],
   "source": [
    "with open(\"myfile.txt\",'r') as f:\n",
    "    for line in f:\n",
    "        print(line)\n",
    "        "
   ]
  },
  {
   "cell_type": "code",
   "execution_count": null,
   "id": "e2b37e3c",
   "metadata": {},
   "outputs": [],
   "source": []
  }
 ],
 "metadata": {
  "kernelspec": {
   "display_name": "Python 3 (ipykernel)",
   "language": "python",
   "name": "python3"
  },
  "language_info": {
   "codemirror_mode": {
    "name": "ipython",
    "version": 3
   },
   "file_extension": ".py",
   "mimetype": "text/x-python",
   "name": "python",
   "nbconvert_exporter": "python",
   "pygments_lexer": "ipython3",
   "version": "3.11.3"
  }
 },
 "nbformat": 4,
 "nbformat_minor": 5
}
